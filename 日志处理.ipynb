{
 "cells": [
  {
   "cell_type": "code",
   "execution_count": 1,
   "metadata": {},
   "outputs": [],
   "source": [
    "import re\n",
    "import ast\n",
    "\n",
    "# 读取文件\n",
    "# with open('en_arg_seed.txt', 'r') as file:\n",
    "# with open('zh_arg_seed.txt', 'r') as file:\n",
    "with open('en_slm_seed.txt', 'r') as file:\n",
    "# with open('zh_slm_seed.txt', 'r') as file:\n",
    "    file_contents = file.read()\n",
    "\n",
    "# 使用正则表达式找到所有符合格式的行\n",
    "pattern = re.compile(r\"the_test_metric: ({.*?})\")\n",
    "matches = pattern.findall(file_contents)\n",
    "\n",
    "# 使用 ast.literal_eval 安全地将匹配的字符串转换为字典\n",
    "dict_list = [ast.literal_eval(match) for match in matches]\n",
    "\n",
    "# dict_list 就是包含所有指标字典的列表\n"
   ]
  },
  {
   "cell_type": "code",
   "execution_count": 2,
   "metadata": {},
   "outputs": [
    {
     "name": "stdout",
     "output_type": "stream",
     "text": [
      "{'acc': {'mean': 0.867, 'stdev': 0.004},\n",
      " 'auc': {'mean': 0.85, 'stdev': 0.005},\n",
      " 'f1_fake': {'mean': 0.625, 'stdev': 0.01},\n",
      " 'f1_real': {'mean': 0.919, 'stdev': 0.003},\n",
      " 'metric': {'mean': 0.772, 'stdev': 0.006},\n",
      " 'precision': {'mean': 0.784, 'stdev': 0.008},\n",
      " 'precision_fake': {'mean': 0.659, 'stdev': 0.017},\n",
      " 'precision_real': {'mean': 0.91, 'stdev': 0.004},\n",
      " 'recall': {'mean': 0.763, 'stdev': 0.008},\n",
      " 'recall_fake': {'mean': 0.596, 'stdev': 0.019},\n",
      " 'recall_real': {'mean': 0.929, 'stdev': 0.007},\n",
      " 'spauc': {'mean': 0.739, 'stdev': 0.012}}\n"
     ]
    }
   ],
   "source": [
    "from pprint import pprint\n",
    "from statistics import mean, stdev\n",
    "def get_dict_mean_stdev(dict_list, digits=None):\n",
    "\n",
    "    # 对某个key做操作\n",
    "    def recurse_dicts(dict_list, current_key):\n",
    "        # 提取这个键对应的所有值（可能是字典或数值）\n",
    "        value_list = [\n",
    "            current_dict[current_key]\n",
    "            for current_dict in dict_list\n",
    "            if current_key in current_dict\n",
    "        ]\n",
    "\n",
    "        # 如果值是字典，则递归处理\n",
    "        if isinstance(value_list[0], dict):\n",
    "            return get_dict_mean_stdev(value_list, digits)\n",
    "\n",
    "        # 计算均值和标准差\n",
    "        calculated_mean = mean(value_list)\n",
    "        calculated_stdev = stdev(value_list) if len(value_list) > 1 else 0\n",
    "\n",
    "        # 如果digits不为None，则四舍五入\n",
    "        if digits is not None:\n",
    "            calculated_mean = round(calculated_mean, digits)\n",
    "            calculated_stdev = round(calculated_stdev, digits)\n",
    "\n",
    "        return {\"mean\": calculated_mean, \"stdev\": calculated_stdev}\n",
    "\n",
    "    # 初始化结果字典\n",
    "    result = {}\n",
    "\n",
    "    # 获取所有字典的键的并集\n",
    "    keys = set().union(*[d.keys() for d in dict_list])\n",
    "\n",
    "    # 对每个键进行操作\n",
    "    for key in keys:\n",
    "        result[key] = recurse_dicts(dict_list, key)\n",
    "\n",
    "    return result\n",
    "\n",
    "pprint(get_dict_mean_stdev(dict_list,3))"
   ]
  }
 ],
 "metadata": {
  "kernelspec": {
   "display_name": "ARG",
   "language": "python",
   "name": "python3"
  },
  "language_info": {
   "codemirror_mode": {
    "name": "ipython",
    "version": 3
   },
   "file_extension": ".py",
   "mimetype": "text/x-python",
   "name": "python",
   "nbconvert_exporter": "python",
   "pygments_lexer": "ipython3",
   "version": "3.11.4"
  }
 },
 "nbformat": 4,
 "nbformat_minor": 2
}
